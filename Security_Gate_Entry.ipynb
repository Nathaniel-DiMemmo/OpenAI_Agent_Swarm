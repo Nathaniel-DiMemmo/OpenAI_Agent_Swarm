{
  "nbformat": 4,
  "nbformat_minor": 0,
  "metadata": {
    "colab": {
      "provenance": [],
      "authorship_tag": "ABX9TyOYThZdXX/gj2pRt2DETolt"
    },
    "kernelspec": {
      "name": "python3",
      "display_name": "Python 3"
    },
    "language_info": {
      "name": "python"
    }
  },
  "cells": [
    {
      "cell_type": "code",
      "execution_count": null,
      "metadata": {
        "colab": {
          "base_uri": "https://localhost:8080/"
        },
        "id": "mmZ_NYDURtqO",
        "outputId": "7db80c18-15b1-4f09-9f59-1dd381d88377"
      },
      "outputs": [
        {
          "output_type": "stream",
          "name": "stdout",
          "text": [
            "25\n"
          ]
        }
      ],
      "source": [
        "# calculate the area of a triangle\n",
        "base = 10\n",
        "height = 5\n",
        "area = (base * height)//2\n",
        "print(area)"
      ]
    },
    {
      "cell_type": "code",
      "source": [
        "z = (v + w) * (x / y)\n",
        "v = 10\n",
        "w = 25\n",
        "x = 70\n",
        "y = 2\n",
        "print(z)\n"
      ],
      "metadata": {
        "colab": {
          "base_uri": "https://localhost:8080/"
        },
        "id": "3znPYUemSfH5",
        "outputId": "56f3a764-d923-43df-d5ba-183b9f6abed8"
      },
      "execution_count": null,
      "outputs": [
        {
          "output_type": "stream",
          "name": "stdout",
          "text": [
            "1225.0\n"
          ]
        }
      ]
    },
    {
      "cell_type": "code",
      "source": [
        "name = input('Enter your name: ')\n",
        "if name =='sam' or name == 'josh' or name == 'kate':\n",
        "  print('You are banned!')\n",
        "else:\n",
        "  print('You are more than welcome!!!')"
      ],
      "metadata": {
        "colab": {
          "base_uri": "https://localhost:8080/"
        },
        "id": "hTLYQGFlYCYU",
        "outputId": "d324084f-e303-4182-beb9-41285a43eccb"
      },
      "execution_count": null,
      "outputs": [
        {
          "output_type": "stream",
          "name": "stdout",
          "text": [
            "Enter your name: Josh\n",
            "You are more than welcome!!!\n"
          ]
        }
      ]
    }
  ]
}